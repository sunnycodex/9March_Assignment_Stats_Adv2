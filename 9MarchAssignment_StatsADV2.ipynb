{
 "cells": [
  {
   "cell_type": "markdown",
   "id": "752b8c99-0a0e-4960-9ef7-57b07559ee79",
   "metadata": {},
   "source": [
    "#1\n",
    "The Probability Mass Function (PMF) is a function that assigns probabilities to the possible values of a discrete random variable. For example,\n",
    "Consider rolling a fair six-sided die. Let X be the random variable representing the outcome of the roll. The PMF of X is as follows:\n",
    "\n",
    "P(X = 1) = 1/6\n",
    "P(X = 2) = 1/6\n",
    "P(X = 3) = 1/6\n",
    "P(X = 4) = 1/6\n",
    "P(X = 5) = 1/6\n",
    "P(X = 6) = 1/6\n",
    "\n",
    "On the other hand, the Probability Density Function (PDF) is a function that describes the likelihood of a **continuous random variable taking on a particular value. Unlike PMFs, PDFs do not assign probabilities directly to specific values of the random variable. Instead, they describe the likelihood of the random variable taking on a value within a certain range. For example, \n",
    "Consider a continuous random variable Y representing the height of individuals in a population. The PDF of Y might look like a bell curve (normal distribution). The PDF value at a specific height 'y' represents the relative likelihood of an individual having that height.\n",
    "\n",
    "\n"
   ]
  },
  {
   "cell_type": "markdown",
   "id": "9827a6c2-13d5-4b54-8b1c-5579041ef319",
   "metadata": {},
   "source": [
    "#2\n",
    "The Cumulative Distribution Function (CDF) is a concept used in probability and statistics to describe the cumulative probability distribution of a random variable. The CDF provides information about the probability that a random variable takes on a value less than or equal to a given value.\n",
    "\n",
    "For a random variable X, the CDF is typically denoted as F(x), where 'x' is a specific value.\n",
    "\n",
    "Mathematically, the CDF F(x) is defined as follows:\n",
    "F(x) = P(X ≤ x)\n",
    "\n",
    "The Cumulative Distribution Function (CDF) is used to describe the probabilities of a random variable having values less than or equal to a specific value."
   ]
  },
  {
   "cell_type": "markdown",
   "id": "6589c790-105a-46fc-94cc-fdf93f0f9815",
   "metadata": {
    "tags": []
   },
   "source": [
    "#3\n",
    "Example of Normal Distrubution:\n",
    "\n",
    "\u000eWeight of a student in a class\n",
    "\n",
    "\u000b",
    "Height of student in class\n",
    " \n",
    "The normal distribution is a continuous probability distribution that is often used to describe real-valued random variables that tend to cluster around a single mean value. The shape of the normal distribution is determined by its two parameters: the mean and the standard deviation.\n",
    "\n",
    "The mean of the normal distribution determines the location of the center of the distribution. It represents the average value of the random variable. If you increase the mean, the entire distribution shifts to the right, while if you decrease the mean, the entire distribution shifts to the left.\n",
    "\n",
    "The standard deviation of the normal distribution determines the spread of the distribution. It represents how much the values of the random variable deviate from the mean on average. If you increase the standard deviation, the distribution becomes wider and flatter, while if you decrease the standard deviation, the distribution becomes narrower and taller."
   ]
  },
  {
   "cell_type": "markdown",
   "id": "0401fd72-5bd0-4c2a-99ef-8c2ddb7fef99",
   "metadata": {},
   "source": [
    "#4\n",
    "\n",
    "The normal distribution is important because:\n",
    "\n",
    "It has one of the important properties called central theorem.\n",
    "In case the sample size is large the normal distribution serves as good approximation.\n",
    "It is the most common distribution function for independent, randomly generated variables.\n",
    "\n",
    "Real-life examples of Normal distribution:\n",
    "-Height of Individuals\n",
    "-Exam Scores\n",
    "-Measurement Errors\n",
    "-IQ Scores\n",
    "-Financial Returns\n"
   ]
  },
  {
   "cell_type": "markdown",
   "id": "3a95037f-1279-46a5-8198-9ea3a7948fb1",
   "metadata": {},
   "source": [
    "#5\n",
    "\n",
    "Bernoulli Distribution is a type of discrete probability distribution where every experiment conducted asks a question that can be answered only in yes or no. In other words, the random variable can be 1 with a probability p or it can be 0 with a probability (1 - p). Such an experiment is called a Bernoulli trial.\n",
    "\n",
    "example:\n",
    "flipping a coin\n",
    "\n",
    "The Bernoulli distribution is a special case of the Binomial distribution where the number of trials is equal to 1. A Bernoulli distribution is used to model the outcome of a single trial, where the outcome can be either success or failure. The probability of success is denoted by p, and the probability of failure is 1-p.\n",
    "\n",
    "On the other hand, a Binomial distribution is used to model the number of successes in a fixed number of independent trials, where each trial has only two possible outcomes: success or failure. The probability of success on each trial is constant and denoted by p.\n"
   ]
  },
  {
   "cell_type": "markdown",
   "id": "3399b228-2c90-493a-8de3-51334cd943d1",
   "metadata": {},
   "source": [
    "#6\n",
    "\n",
    "First, we need to convert the value of 60 to a standard score (z-score) using the formula: z = (x - μ) / σ,\n",
    "\n",
    "Calculating the z-score for x = 60:\n",
    "\n",
    "z = (60 - 50) / 10\n",
    "z = 1\n",
    "\n",
    "Now we need find the value 1 in Z table\n",
    "which is 0.84134\n",
    "subtract it from 1 to get the area to the right of z = 1\n",
    "\n",
    "1-0.84134 = .15866\n",
    "\n",
    "the probability that a randomly selected observation will be greater \n",
    "than 60 is 15.8 %\n"
   ]
  },
  {
   "cell_type": "markdown",
   "id": "6c8321b3-3d06-4787-b48b-5f99fbe01aa4",
   "metadata": {},
   "source": [
    "#7\n",
    "Uniform distribution is a type of probability distribution where all outcomes are equally likely to occur. It can be used to model events where the probability of each outcome is the same. The uniform distribution can be either continuous or discrete.\n",
    "\n",
    "An example of a discrete uniform distribution is rolling a fair six-sided die. Each outcome (1, 2, 3, 4, 5, or 6) has an equal probability of 1/6. Another example is flipping a fair coin, where the probability of getting heads or tails is 1/2.\n",
    "\n",
    "An example of a continuous uniform distribution is the amount of time it takes for a traffic light to change from red to green. If the light changes every 60 seconds and the time is measured continuously, then any time between 0 and 60 seconds is equally likely.\n",
    "\n"
   ]
  },
  {
   "cell_type": "markdown",
   "id": "25999114-9e0e-49a7-a568-39921040785e",
   "metadata": {},
   "source": [
    "#8\n",
    "\n",
    "A z-score measures the distance between a data point and the mean using standard deviations.\n",
    "\n",
    "Z-scores are important because they allow researchers to standardize the values (raw scores) of a normal distribution by converting them into z-scores. This standardization provides several benefits, including allowing researchers to calculate the probability of a score occurring within a standard normal distribution and enabling them to compare two scores from different samples (which may have different means and standard deviations."
   ]
  },
  {
   "cell_type": "markdown",
   "id": "9d52943f-658a-4529-9ebe-3532f1c041be",
   "metadata": {},
   "source": [
    "#9\n",
    "\n",
    "The Central Limit Theorem (CLT) is a fundamental concept in probability theory and statistics. It states that, in many situations, for independent and identically distributed random variables, the sampling distribution of the standardized sample mean tends towards the standard normal distribution even if the original variables themselves are not normally distributed. This means that probabilistic and statistical methods that work for normal distributions can be applicable to many problems involving other types of distributions.\n",
    "\n",
    "The central limit theorem is useful when analyzing large data sets because it allows one to assume that the sampling distribution of the mean will be normally-distributed in most cases."
   ]
  },
  {
   "cell_type": "markdown",
   "id": "29144763-c73e-4c90-8a2e-f801996a203a",
   "metadata": {},
   "source": [
    "#10\n",
    "\n",
    "The primary assumptions of the Central Limit Theorem are as follows:\n",
    "Independence,Identically Distributed,Sample Size,Finite Variance.\n"
   ]
  },
  {
   "cell_type": "code",
   "execution_count": null,
   "id": "54391dd6-7b69-4aff-bcae-9d3c4022c729",
   "metadata": {},
   "outputs": [],
   "source": []
  }
 ],
 "metadata": {
  "kernelspec": {
   "display_name": "Python 3 (ipykernel)",
   "language": "python",
   "name": "python3"
  },
  "language_info": {
   "codemirror_mode": {
    "name": "ipython",
    "version": 3
   },
   "file_extension": ".py",
   "mimetype": "text/x-python",
   "name": "python",
   "nbconvert_exporter": "python",
   "pygments_lexer": "ipython3",
   "version": "3.10.8"
  }
 },
 "nbformat": 4,
 "nbformat_minor": 5
}
